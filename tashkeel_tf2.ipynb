{
  "nbformat": 4,
  "nbformat_minor": 0,
  "metadata": {
    "colab": {
      "name": "arabic poems tf1",
      "provenance": [],
      "collapsed_sections": [],
      "authorship_tag": "ABX9TyNFjXLZ8XZ/3IMoQRtYKHQh",
      "include_colab_link": true
    },
    "kernelspec": {
      "name": "python3",
      "display_name": "Python 3"
    },
    "accelerator": "GPU"
  },
  "cells": [
    {
      "cell_type": "markdown",
      "metadata": {
        "id": "view-in-github",
        "colab_type": "text"
      },
      "source": [
        "<a href=\"https://colab.research.google.com/github/ojuba-org/arabic-ml-data/blob/master/tashkeel_tf2.ipynb\" target=\"_parent\"><img src=\"https://colab.research.google.com/assets/colab-badge.svg\" alt=\"Open In Colab\"/></a>"
      ]
    },
    {
      "cell_type": "markdown",
      "metadata": {
        "id": "K7Nzhoae6oyN"
      },
      "source": [
        "Tensorflow documentation\n",
        "\n",
        "* [v2](https://www.tensorflow.org/tutorials/text/text_generation)\n",
        "* [v1](https://github.com/tensorflow/docs/blob/master/site/en/r1/tutorials/sequences/text_generation.ipynb)"
      ]
    },
    {
      "cell_type": "code",
      "metadata": {
        "id": "6bB-XTwj9io8"
      },
      "source": [
        "%tensorflow_version 2.x"
      ],
      "execution_count": 1,
      "outputs": []
    },
    {
      "cell_type": "code",
      "metadata": {
        "id": "jOeUIdNu_AU-"
      },
      "source": [
        "import sys\n",
        "import os\n",
        "import time"
      ],
      "execution_count": 2,
      "outputs": []
    },
    {
      "cell_type": "code",
      "metadata": {
        "id": "60OfCkAv-mMZ"
      },
      "source": [
        "import re\n",
        "import unicodedata"
      ],
      "execution_count": 3,
      "outputs": []
    },
    {
      "cell_type": "code",
      "metadata": {
        "id": "ApcMwBdi9sgg"
      },
      "source": [
        "import numpy as np"
      ],
      "execution_count": 4,
      "outputs": []
    },
    {
      "cell_type": "code",
      "metadata": {
        "id": "33-0GY_z7RIr"
      },
      "source": [
        "import tensorflow as tf"
      ],
      "execution_count": 5,
      "outputs": []
    },
    {
      "cell_type": "code",
      "metadata": {
        "id": "Bst7e-d8KIGS"
      },
      "source": [
        "#tf.enable_eager_execution()"
      ],
      "execution_count": null,
      "outputs": []
    },
    {
      "cell_type": "code",
      "metadata": {
        "id": "3vCqr4qy7STc"
      },
      "source": [
        "#import tensorflow.compat.v1 as tf"
      ],
      "execution_count": null,
      "outputs": []
    },
    {
      "cell_type": "code",
      "metadata": {
        "colab": {
          "base_uri": "https://localhost:8080/"
        },
        "id": "vFID0M6u9xbf",
        "outputId": "209b9d7e-53c8-4055-c232-93f211ce0c18"
      },
      "source": [
        "print(\"tf version = {} and py version = {}\".format(tf.__version__, sys.version))"
      ],
      "execution_count": 6,
      "outputs": [
        {
          "output_type": "stream",
          "text": [
            "tf version = 2.4.1 and py version = 3.7.10 (default, Feb 20 2021, 21:17:23) \n",
            "[GCC 7.5.0]\n"
          ],
          "name": "stdout"
        }
      ]
    },
    {
      "cell_type": "code",
      "metadata": {
        "id": "6XJ6ovEI-AED"
      },
      "source": [
        "assert sys.version_info.major == 3, 'please use python 3'\n",
        "assert tf.test.gpu_device_name()!='', 'no GPU, please enable GPU'"
      ],
      "execution_count": 7,
      "outputs": []
    },
    {
      "cell_type": "code",
      "metadata": {
        "id": "TrUDr7WY_cuu"
      },
      "source": [
        "#from tensorflow.keras.layers.experimental import preprocessing\n"
      ],
      "execution_count": null,
      "outputs": []
    },
    {
      "cell_type": "code",
      "metadata": {
        "id": "HnXXpLEm5cCp"
      },
      "source": [
        "! curl -sSLO https://github.com/ojuba-org/arabic-ml-data/archive/refs/heads/master.zip"
      ],
      "execution_count": 8,
      "outputs": []
    },
    {
      "cell_type": "code",
      "metadata": {
        "id": "JuBEml2pKA9U"
      },
      "source": [
        "! unzip -q master.zip \"arabic-ml-data-master/corpora/quran/*.txt\""
      ],
      "execution_count": 12,
      "outputs": []
    },
    {
      "cell_type": "code",
      "metadata": {
        "id": "BUnBxW1qKflI",
        "colab": {
          "base_uri": "https://localhost:8080/"
        },
        "outputId": "188a9252-52cb-4a50-9fa6-25dfa10d1483"
      },
      "source": [
        "! cat arabic-ml-data-master/corpora/quran/*.txt > data.txt; wc -l data.txt"
      ],
      "execution_count": 14,
      "outputs": [
        {
          "output_type": "stream",
          "text": [
            "6236 data.txt\n"
          ],
          "name": "stdout"
        }
      ]
    },
    {
      "cell_type": "code",
      "metadata": {
        "id": "xEa_wjUSMcIR"
      },
      "source": [
        "lines=[l.strip() for l in open('data.txt', 'r') if l.strip()]\n",
        "s=set()\n",
        "for l in lines: s.update(l)"
      ],
      "execution_count": 15,
      "outputs": []
    },
    {
      "cell_type": "code",
      "metadata": {
        "colab": {
          "base_uri": "https://localhost:8080/"
        },
        "id": "z8Rt4cHw4cmQ",
        "outputId": "0a2e3eee-0f39-4ec3-f3d6-1e7b6226adc9"
      },
      "source": [
        "alpha=sorted(s)\n",
        "for i in alpha: print(unicodedata.name(i), repr(i))\n"
      ],
      "execution_count": 16,
      "outputs": [
        {
          "output_type": "stream",
          "text": [
            "SPACE ' '\n",
            "ARABIC LETTER HAMZA 'ء'\n",
            "ARABIC LETTER ALEF WITH MADDA ABOVE 'آ'\n",
            "ARABIC LETTER ALEF WITH HAMZA ABOVE 'أ'\n",
            "ARABIC LETTER WAW WITH HAMZA ABOVE 'ؤ'\n",
            "ARABIC LETTER ALEF WITH HAMZA BELOW 'إ'\n",
            "ARABIC LETTER YEH WITH HAMZA ABOVE 'ئ'\n",
            "ARABIC LETTER ALEF 'ا'\n",
            "ARABIC LETTER BEH 'ب'\n",
            "ARABIC LETTER TEH MARBUTA 'ة'\n",
            "ARABIC LETTER TEH 'ت'\n",
            "ARABIC LETTER THEH 'ث'\n",
            "ARABIC LETTER JEEM 'ج'\n",
            "ARABIC LETTER HAH 'ح'\n",
            "ARABIC LETTER KHAH 'خ'\n",
            "ARABIC LETTER DAL 'د'\n",
            "ARABIC LETTER THAL 'ذ'\n",
            "ARABIC LETTER REH 'ر'\n",
            "ARABIC LETTER ZAIN 'ز'\n",
            "ARABIC LETTER SEEN 'س'\n",
            "ARABIC LETTER SHEEN 'ش'\n",
            "ARABIC LETTER SAD 'ص'\n",
            "ARABIC LETTER DAD 'ض'\n",
            "ARABIC LETTER TAH 'ط'\n",
            "ARABIC LETTER ZAH 'ظ'\n",
            "ARABIC LETTER AIN 'ع'\n",
            "ARABIC LETTER GHAIN 'غ'\n",
            "ARABIC LETTER FEH 'ف'\n",
            "ARABIC LETTER QAF 'ق'\n",
            "ARABIC LETTER KAF 'ك'\n",
            "ARABIC LETTER LAM 'ل'\n",
            "ARABIC LETTER MEEM 'م'\n",
            "ARABIC LETTER NOON 'ن'\n",
            "ARABIC LETTER HEH 'ه'\n",
            "ARABIC LETTER WAW 'و'\n",
            "ARABIC LETTER ALEF MAKSURA 'ى'\n",
            "ARABIC LETTER YEH 'ي'\n",
            "ARABIC FATHATAN 'ً'\n",
            "ARABIC DAMMATAN 'ٌ'\n",
            "ARABIC KASRATAN 'ٍ'\n",
            "ARABIC FATHA 'َ'\n",
            "ARABIC DAMMA 'ُ'\n",
            "ARABIC KASRA 'ِ'\n",
            "ARABIC SHADDA 'ّ'\n",
            "ARABIC SUKUN 'ْ'\n"
          ],
          "name": "stdout"
        }
      ]
    },
    {
      "cell_type": "code",
      "metadata": {
        "id": "Q8aljYj77xyp"
      },
      "source": [
        "tashkeel_set = { ch for ch in alpha if unicodedata.category(ch)=='Mn' }"
      ],
      "execution_count": 23,
      "outputs": []
    },
    {
      "cell_type": "code",
      "metadata": {
        "id": "2nk92RFU8AU1",
        "outputId": "38f97e6f-96ba-4595-b5d6-5881b9715580",
        "colab": {
          "base_uri": "https://localhost:8080/"
        }
      },
      "source": [
        "for i in sorted(tashkeel_set): print(unicodedata.name(i), repr(i))"
      ],
      "execution_count": 24,
      "outputs": [
        {
          "output_type": "stream",
          "text": [
            "ARABIC FATHATAN 'ً'\n",
            "ARABIC DAMMATAN 'ٌ'\n",
            "ARABIC KASRATAN 'ٍ'\n",
            "ARABIC FATHA 'َ'\n",
            "ARABIC DAMMA 'ُ'\n",
            "ARABIC KASRA 'ِ'\n",
            "ARABIC SHADDA 'ّ'\n",
            "ARABIC SUKUN 'ْ'\n"
          ],
          "name": "stdout"
        }
      ]
    },
    {
      "cell_type": "code",
      "metadata": {
        "colab": {
          "base_uri": "https://localhost:8080/",
          "height": 35
        },
        "id": "GPB_DLAU4eQP",
        "outputId": "4861c4b8-0edb-42b2-9d74-43d4698f9740"
      },
      "source": [
        "line=lines[0]; line"
      ],
      "execution_count": 57,
      "outputs": [
        {
          "output_type": "execute_result",
          "data": {
            "application/vnd.google.colaboratory.intrinsic+json": {
              "type": "string"
            },
            "text/plain": [
              "'بِسْمِ اللَّهِ الرَّحْمَنِ الرَّحِيمِ'"
            ]
          },
          "metadata": {
            "tags": []
          },
          "execution_count": 57
        }
      ]
    },
    {
      "cell_type": "code",
      "metadata": {
        "id": "XNlpcyutAKRP",
        "outputId": "1038fa74-cbfe-467e-c6cf-3a7775903552",
        "colab": {
          "base_uri": "https://localhost:8080/"
        }
      },
      "source": [
        "for i in line: print(unicodedata.name(i), repr(i))"
      ],
      "execution_count": 58,
      "outputs": [
        {
          "output_type": "stream",
          "text": [
            "ARABIC LETTER BEH 'ب'\n",
            "ARABIC KASRA 'ِ'\n",
            "ARABIC LETTER SEEN 'س'\n",
            "ARABIC SUKUN 'ْ'\n",
            "ARABIC LETTER MEEM 'م'\n",
            "ARABIC KASRA 'ِ'\n",
            "SPACE ' '\n",
            "ARABIC LETTER ALEF 'ا'\n",
            "ARABIC LETTER LAM 'ل'\n",
            "ARABIC LETTER LAM 'ل'\n",
            "ARABIC SHADDA 'ّ'\n",
            "ARABIC FATHA 'َ'\n",
            "ARABIC LETTER HEH 'ه'\n",
            "ARABIC KASRA 'ِ'\n",
            "SPACE ' '\n",
            "ARABIC LETTER ALEF 'ا'\n",
            "ARABIC LETTER LAM 'ل'\n",
            "ARABIC LETTER REH 'ر'\n",
            "ARABIC SHADDA 'ّ'\n",
            "ARABIC FATHA 'َ'\n",
            "ARABIC LETTER HAH 'ح'\n",
            "ARABIC SUKUN 'ْ'\n",
            "ARABIC LETTER MEEM 'م'\n",
            "ARABIC FATHA 'َ'\n",
            "ARABIC LETTER NOON 'ن'\n",
            "ARABIC KASRA 'ِ'\n",
            "SPACE ' '\n",
            "ARABIC LETTER ALEF 'ا'\n",
            "ARABIC LETTER LAM 'ل'\n",
            "ARABIC LETTER REH 'ر'\n",
            "ARABIC SHADDA 'ّ'\n",
            "ARABIC FATHA 'َ'\n",
            "ARABIC LETTER HAH 'ح'\n",
            "ARABIC KASRA 'ِ'\n",
            "ARABIC LETTER YEH 'ي'\n",
            "ARABIC LETTER MEEM 'م'\n",
            "ARABIC KASRA 'ِ'\n"
          ],
          "name": "stdout"
        }
      ]
    },
    {
      "cell_type": "code",
      "metadata": {
        "id": "-V-DiHCC6Ov-"
      },
      "source": [
        "def tokenize_tashkeel(line):\n",
        "  offs=[ ix for ix, ch in enumerate(line) if ch not in tashkeel_set ]\n",
        "  offs.append(len(line))\n",
        "  return [ line[off: offs[ix+1]] for ix, off in enumerate(offs[:-1]) ]"
      ],
      "execution_count": 59,
      "outputs": []
    },
    {
      "cell_type": "code",
      "metadata": {
        "id": "PvOrFg_v6tru",
        "outputId": "b2e16cdd-c3c2-47e9-e8ee-db12ebbc79d1",
        "colab": {
          "base_uri": "https://localhost:8080/"
        }
      },
      "source": [
        "print(len(line))\n",
        "tokens=tokenize_tashkeel(line)\n",
        "print(tokens)\n",
        "[ len(token) for token in tokens]"
      ],
      "execution_count": 60,
      "outputs": [
        {
          "output_type": "stream",
          "text": [
            "37\n",
            "['بِ', 'سْ', 'مِ', ' ', 'ا', 'ل', 'لَّ', 'هِ', ' ', 'ا', 'ل', 'رَّ', 'حْ', 'مَ', 'نِ', ' ', 'ا', 'ل', 'رَّ', 'حِ', 'ي', 'مِ']\n"
          ],
          "name": "stdout"
        },
        {
          "output_type": "execute_result",
          "data": {
            "text/plain": [
              "[2, 2, 2, 1, 1, 1, 3, 2, 1, 1, 1, 3, 2, 2, 2, 1, 1, 1, 3, 2, 1, 2]"
            ]
          },
          "metadata": {
            "tags": []
          },
          "execution_count": 60
        }
      ]
    },
    {
      "cell_type": "code",
      "metadata": {
        "id": "roBLXGF_8ztW",
        "outputId": "e24ee03c-46e9-45d4-a15f-75bf5a0b1daa",
        "colab": {
          "base_uri": "https://localhost:8080/",
          "height": 35
        }
      },
      "source": [
        ""
      ],
      "execution_count": 50,
      "outputs": [
        {
          "output_type": "execute_result",
          "data": {
            "application/vnd.google.colaboratory.intrinsic+json": {
              "type": "string"
            },
            "text/plain": [
              "'ARABIC KASRA'"
            ]
          },
          "metadata": {
            "tags": []
          },
          "execution_count": 50
        }
      ]
    },
    {
      "cell_type": "code",
      "metadata": {
        "id": "jgZWBmYGBPuI"
      },
      "source": [
        ""
      ],
      "execution_count": null,
      "outputs": []
    }
  ]
}