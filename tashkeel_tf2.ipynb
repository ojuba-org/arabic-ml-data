{
  "nbformat": 4,
  "nbformat_minor": 0,
  "metadata": {
    "colab": {
      "name": "arabic tashkeel tf2",
      "provenance": [],
      "collapsed_sections": [],
      "authorship_tag": "ABX9TyMGZUS4l7SuQYmxwyMYJ0CD",
      "include_colab_link": true
    },
    "kernelspec": {
      "name": "python3",
      "display_name": "Python 3"
    },
    "accelerator": "GPU"
  },
  "cells": [
    {
      "cell_type": "markdown",
      "metadata": {
        "id": "view-in-github",
        "colab_type": "text"
      },
      "source": [
        "<a href=\"https://colab.research.google.com/github/ojuba-org/arabic-ml-data/blob/master/tashkeel_tf2.ipynb\" target=\"_parent\"><img src=\"https://colab.research.google.com/assets/colab-badge.svg\" alt=\"Open In Colab\"/></a>"
      ]
    },
    {
      "cell_type": "markdown",
      "metadata": {
        "id": "K7Nzhoae6oyN"
      },
      "source": [
        "Tensorflow documentation\n",
        "\n",
        "* [v2](https://www.tensorflow.org/tutorials/text/text_generation)\n",
        "* [v1](https://github.com/tensorflow/docs/blob/master/site/en/r1/tutorials/sequences/text_generation.ipynb)"
      ]
    },
    {
      "cell_type": "code",
      "metadata": {
        "id": "6bB-XTwj9io8"
      },
      "source": [
        "%tensorflow_version 2.x"
      ],
      "execution_count": 1,
      "outputs": []
    },
    {
      "cell_type": "code",
      "metadata": {
        "id": "jOeUIdNu_AU-"
      },
      "source": [
        "import sys\n",
        "import os\n",
        "import time"
      ],
      "execution_count": 2,
      "outputs": []
    },
    {
      "cell_type": "code",
      "metadata": {
        "id": "60OfCkAv-mMZ"
      },
      "source": [
        "import re\n",
        "import unicodedata"
      ],
      "execution_count": 3,
      "outputs": []
    },
    {
      "cell_type": "code",
      "metadata": {
        "id": "ApcMwBdi9sgg"
      },
      "source": [
        "import numpy as np"
      ],
      "execution_count": 4,
      "outputs": []
    },
    {
      "cell_type": "code",
      "metadata": {
        "id": "33-0GY_z7RIr"
      },
      "source": [
        "import tensorflow as tf"
      ],
      "execution_count": 5,
      "outputs": []
    },
    {
      "cell_type": "code",
      "metadata": {
        "id": "Bst7e-d8KIGS"
      },
      "source": [
        "#tf.enable_eager_execution()"
      ],
      "execution_count": 6,
      "outputs": []
    },
    {
      "cell_type": "code",
      "metadata": {
        "id": "3vCqr4qy7STc"
      },
      "source": [
        "#import tensorflow.compat.v1 as tf"
      ],
      "execution_count": 7,
      "outputs": []
    },
    {
      "cell_type": "code",
      "metadata": {
        "colab": {
          "base_uri": "https://localhost:8080/"
        },
        "id": "vFID0M6u9xbf",
        "outputId": "83e1fb29-3f51-4241-9856-0dd4caa2a456"
      },
      "source": [
        "print(\"tf version = {} and py version = {}\".format(tf.__version__, sys.version))"
      ],
      "execution_count": 8,
      "outputs": [
        {
          "output_type": "stream",
          "name": "stdout",
          "text": [
            "tf version = 2.7.0 and py version = 3.7.12 (default, Sep 10 2021, 00:21:48) \n",
            "[GCC 7.5.0]\n"
          ]
        }
      ]
    },
    {
      "cell_type": "code",
      "metadata": {
        "id": "6XJ6ovEI-AED"
      },
      "source": [
        "assert sys.version_info.major == 3, 'please use python 3'\n",
        "assert tf.test.gpu_device_name()!='', 'no GPU, please enable GPU'"
      ],
      "execution_count": 9,
      "outputs": []
    },
    {
      "cell_type": "code",
      "metadata": {
        "id": "TrUDr7WY_cuu"
      },
      "source": [
        "#from tensorflow.keras.layers.experimental import preprocessing\n"
      ],
      "execution_count": 10,
      "outputs": []
    },
    {
      "cell_type": "code",
      "metadata": {
        "id": "HnXXpLEm5cCp"
      },
      "source": [
        "! curl -sSLO https://github.com/ojuba-org/arabic-ml-data/archive/refs/heads/master.zip"
      ],
      "execution_count": 11,
      "outputs": []
    },
    {
      "cell_type": "code",
      "metadata": {
        "id": "JuBEml2pKA9U"
      },
      "source": [
        "! unzip -f -q master.zip \"arabic-ml-data-master/corpora/quran/*.txt\""
      ],
      "execution_count": 12,
      "outputs": []
    },
    {
      "cell_type": "code",
      "metadata": {
        "id": "BUnBxW1qKflI",
        "colab": {
          "base_uri": "https://localhost:8080/"
        },
        "outputId": "a3b9ac41-ac99-4bef-d919-e5ee86e0af55"
      },
      "source": [
        "! cat arabic-ml-data-master/corpora/quran/*.txt > data.txt; wc -l data.txt"
      ],
      "execution_count": 13,
      "outputs": [
        {
          "output_type": "stream",
          "name": "stdout",
          "text": [
            "6236 data.txt\n"
          ]
        }
      ]
    },
    {
      "cell_type": "code",
      "metadata": {
        "id": "xEa_wjUSMcIR"
      },
      "source": [
        "lines=[l.strip() for l in open('data.txt', 'r') if l.strip()]\n",
        "s=set()\n",
        "for l in lines: s.update(l)"
      ],
      "execution_count": 14,
      "outputs": []
    },
    {
      "cell_type": "code",
      "metadata": {
        "id": "z8Rt4cHw4cmQ"
      },
      "source": [
        "alpha=sorted(s)"
      ],
      "execution_count": 15,
      "outputs": []
    },
    {
      "cell_type": "code",
      "metadata": {
        "id": "Q8aljYj77xyp"
      },
      "source": [
        "tashkeel_set = { ch for ch in alpha if unicodedata.category(ch)=='Mn' }"
      ],
      "execution_count": 16,
      "outputs": []
    },
    {
      "cell_type": "code",
      "metadata": {
        "id": "7yfmBqVTOiD3"
      },
      "source": [
        "def tokenize_tashkeel(line):\n",
        "  offs=[ ix for ix, ch in enumerate(line) if ch not in tashkeel_set ]\n",
        "  offs.append(len(line))\n",
        "  return [ line[off: offs[ix+1]] for ix, off in enumerate(offs[:-1]) ]"
      ],
      "execution_count": 17,
      "outputs": []
    },
    {
      "cell_type": "code",
      "metadata": {
        "id": "I9kbSBAjSGXc"
      },
      "source": [
        "(\n",
        "  VOC_START,\n",
        "  VOC_UNKNOWN,\n",
        "  VOC_UNKNOWN_TASHKEEL, VOC_UNKNOWN_SHADDA,\n",
        "  VOC_UNKNOWN_LETTER, VOC_UNKNOWN_HAMZA, VOC_UNKNOWN_TEH_OR_HAA, VOC_UNKNOWN_MAQSORA,\n",
        "  VOC_FATHATAN, VOC_DAMMATAN, VOC_KASRATAN, \n",
        "  VOC_FATHA, VOC_DAMMA, VOC_KASRA,\n",
        "  VOC_SHADDA_FATHA, VOC_SHADDA_DAMMA, VOC_SHADDA_KASRA,\n",
        "  VOC_SUKUN,\n",
        "  VOC_STOP,\n",
        ") = range(19)"
      ],
      "execution_count": 18,
      "outputs": []
    },
    {
      "cell_type": "code",
      "metadata": {
        "id": "loDjt3YCWf82"
      },
      "source": [
        "chars = [ ch for ch in alpha if unicodedata.category(ch)!='Mn']"
      ],
      "execution_count": 19,
      "outputs": []
    },
    {
      "cell_type": "code",
      "metadata": {
        "id": "tKHNejyiW-lu"
      },
      "source": [
        "ch2id = { ch: ix+VOC_STOP+1 for ix, ch in enumerate(chars)}"
      ],
      "execution_count": 20,
      "outputs": []
    },
    {
      "cell_type": "code",
      "metadata": {
        "id": "ArhRFFZrXnCR"
      },
      "source": [
        "ch2id.update({\n",
        "  \"\": VOC_START,\n",
        "  \"\\n\": VOC_STOP,\n",
        "  \"\\u064B\": VOC_FATHATAN, \"\\u064C\": VOC_DAMMATAN, \"\\u064D\": VOC_KASRATAN,\n",
        "  \"\\u064E\": VOC_FATHA, \"\\u064F\": VOC_DAMMA, \"\\u0650\": VOC_KASRA,\n",
        "  \"\\u0651\\u064E\": VOC_SHADDA_FATHA, \"\\u0651\\u064F\": VOC_SHADDA_DAMMA, \"\\u0651\\u0650\": VOC_SHADDA_KASRA,\n",
        "  \"\\u0651\": VOC_SUKUN,\n",
        "  \"\\u061f\": VOC_UNKNOWN,\n",
        "  \"\\u0640\\u061f\\u0640\": VOC_UNKNOWN_TASHKEEL,\n",
        "  \"\\u0651\\u061f\": VOC_UNKNOWN_SHADDA,\n",
        "})"
      ],
      "execution_count": 21,
      "outputs": []
    },
    {
      "cell_type": "code",
      "metadata": {
        "id": "cmo6gshSYkii"
      },
      "source": [
        "id2ch = { v: k for k, v in ch2id.items() }"
      ],
      "execution_count": 22,
      "outputs": []
    },
    {
      "cell_type": "code",
      "metadata": {
        "id": "-inoKgGpbszJ"
      },
      "source": [
        "voc_size = max(ch2id.values())"
      ],
      "execution_count": 23,
      "outputs": []
    },
    {
      "cell_type": "code",
      "metadata": {
        "id": "--8Fnu5VanXN"
      },
      "source": [
        "id2ch.update({ ix:'\\u061f' for ix in range(voc_size) if ix not in id2ch})"
      ],
      "execution_count": 24,
      "outputs": []
    },
    {
      "cell_type": "code",
      "source": [
        "id_repr = { globals()[i]: i for i in dir() if i.startswith('VOC_')}\n",
        "id_repr.update({i: unicodedata.name(id2ch[i]) for i in range(VOC_STOP+1, voc_size)})"
      ],
      "metadata": {
        "id": "vtTMHnZNsrw2"
      },
      "execution_count": 25,
      "outputs": []
    },
    {
      "cell_type": "code",
      "source": [
        "def tokenize_one_id(sub):\n",
        "  return (ch2id.get(sub[0], VOC_UNKNOWN),\n",
        "          ch2id.get(sub[1:] or \"\\u0640\\u061f\\u0640\", VOC_UNKNOWN_TASHKEEL),\n",
        "  )\n",
        "def tokenize_tashkeel_id(line):\n",
        "  return [tokenize_one_id(sub) for sub in tokenize_tashkeel(line)]"
      ],
      "metadata": {
        "id": "CgRaaFpAv7sp"
      },
      "execution_count": 26,
      "outputs": []
    },
    {
      "cell_type": "code",
      "source": [
        "for i in alpha: print(unicodedata.name(i), repr(i))"
      ],
      "metadata": {
        "id": "fqzuxszd2-Sk",
        "outputId": "ae09f54e-adca-4822-fcfb-d662f9b69503",
        "colab": {
          "base_uri": "https://localhost:8080/"
        }
      },
      "execution_count": 27,
      "outputs": [
        {
          "output_type": "stream",
          "name": "stdout",
          "text": [
            "SPACE ' '\n",
            "ARABIC LETTER HAMZA 'ء'\n",
            "ARABIC LETTER ALEF WITH MADDA ABOVE 'آ'\n",
            "ARABIC LETTER ALEF WITH HAMZA ABOVE 'أ'\n",
            "ARABIC LETTER WAW WITH HAMZA ABOVE 'ؤ'\n",
            "ARABIC LETTER ALEF WITH HAMZA BELOW 'إ'\n",
            "ARABIC LETTER YEH WITH HAMZA ABOVE 'ئ'\n",
            "ARABIC LETTER ALEF 'ا'\n",
            "ARABIC LETTER BEH 'ب'\n",
            "ARABIC LETTER TEH MARBUTA 'ة'\n",
            "ARABIC LETTER TEH 'ت'\n",
            "ARABIC LETTER THEH 'ث'\n",
            "ARABIC LETTER JEEM 'ج'\n",
            "ARABIC LETTER HAH 'ح'\n",
            "ARABIC LETTER KHAH 'خ'\n",
            "ARABIC LETTER DAL 'د'\n",
            "ARABIC LETTER THAL 'ذ'\n",
            "ARABIC LETTER REH 'ر'\n",
            "ARABIC LETTER ZAIN 'ز'\n",
            "ARABIC LETTER SEEN 'س'\n",
            "ARABIC LETTER SHEEN 'ش'\n",
            "ARABIC LETTER SAD 'ص'\n",
            "ARABIC LETTER DAD 'ض'\n",
            "ARABIC LETTER TAH 'ط'\n",
            "ARABIC LETTER ZAH 'ظ'\n",
            "ARABIC LETTER AIN 'ع'\n",
            "ARABIC LETTER GHAIN 'غ'\n",
            "ARABIC LETTER FEH 'ف'\n",
            "ARABIC LETTER QAF 'ق'\n",
            "ARABIC LETTER KAF 'ك'\n",
            "ARABIC LETTER LAM 'ل'\n",
            "ARABIC LETTER MEEM 'م'\n",
            "ARABIC LETTER NOON 'ن'\n",
            "ARABIC LETTER HEH 'ه'\n",
            "ARABIC LETTER WAW 'و'\n",
            "ARABIC LETTER ALEF MAKSURA 'ى'\n",
            "ARABIC LETTER YEH 'ي'\n",
            "ARABIC FATHATAN 'ً'\n",
            "ARABIC DAMMATAN 'ٌ'\n",
            "ARABIC KASRATAN 'ٍ'\n",
            "ARABIC FATHA 'َ'\n",
            "ARABIC DAMMA 'ُ'\n",
            "ARABIC KASRA 'ِ'\n",
            "ARABIC SHADDA 'ّ'\n",
            "ARABIC SUKUN 'ْ'\n"
          ]
        }
      ]
    },
    {
      "cell_type": "code",
      "metadata": {
        "id": "2nk92RFU8AU1",
        "colab": {
          "base_uri": "https://localhost:8080/"
        },
        "outputId": "d9008856-150b-4c2e-8ce0-c3a978a144df"
      },
      "source": [
        "for i in sorted(tashkeel_set): print(unicodedata.name(i), repr(i))"
      ],
      "execution_count": 28,
      "outputs": [
        {
          "output_type": "stream",
          "name": "stdout",
          "text": [
            "ARABIC FATHATAN 'ً'\n",
            "ARABIC DAMMATAN 'ٌ'\n",
            "ARABIC KASRATAN 'ٍ'\n",
            "ARABIC FATHA 'َ'\n",
            "ARABIC DAMMA 'ُ'\n",
            "ARABIC KASRA 'ِ'\n",
            "ARABIC SHADDA 'ّ'\n",
            "ARABIC SUKUN 'ْ'\n"
          ]
        }
      ]
    },
    {
      "cell_type": "code",
      "metadata": {
        "colab": {
          "base_uri": "https://localhost:8080/",
          "height": 35
        },
        "id": "GPB_DLAU4eQP",
        "outputId": "56a5caec-0d4d-4056-da96-cbd2b91b21a7"
      },
      "source": [
        "line=lines[0]; line"
      ],
      "execution_count": 29,
      "outputs": [
        {
          "output_type": "execute_result",
          "data": {
            "application/vnd.google.colaboratory.intrinsic+json": {
              "type": "string"
            },
            "text/plain": [
              "'بِسْمِ اللَّهِ الرَّحْمَنِ الرَّحِيمِ'"
            ]
          },
          "metadata": {},
          "execution_count": 29
        }
      ]
    },
    {
      "cell_type": "code",
      "metadata": {
        "id": "PvOrFg_v6tru",
        "colab": {
          "base_uri": "https://localhost:8080/"
        },
        "outputId": "729a46f4-25de-4d2b-e8b7-f382f2a0dfed"
      },
      "source": [
        "print(len(line))\n",
        "tokens=tokenize_tashkeel(line)\n",
        "print(tokens)\n",
        "[ len(token) for token in tokens]"
      ],
      "execution_count": 30,
      "outputs": [
        {
          "output_type": "stream",
          "name": "stdout",
          "text": [
            "37\n",
            "['بِ', 'سْ', 'مِ', ' ', 'ا', 'ل', 'لَّ', 'هِ', ' ', 'ا', 'ل', 'رَّ', 'حْ', 'مَ', 'نِ', ' ', 'ا', 'ل', 'رَّ', 'حِ', 'ي', 'مِ']\n"
          ]
        },
        {
          "output_type": "execute_result",
          "data": {
            "text/plain": [
              "[2, 2, 2, 1, 1, 1, 3, 2, 1, 1, 1, 3, 2, 2, 2, 1, 1, 1, 3, 2, 1, 2]"
            ]
          },
          "metadata": {},
          "execution_count": 30
        }
      ]
    },
    {
      "cell_type": "code",
      "metadata": {
        "id": "Ltge1qDBXZfU",
        "outputId": "267f30d4-0b61-4a45-f3e4-ee8062ec43fa",
        "colab": {
          "base_uri": "https://localhost:8080/"
        }
      },
      "source": [
        "VOC_STOP"
      ],
      "execution_count": 31,
      "outputs": [
        {
          "output_type": "execute_result",
          "data": {
            "text/plain": [
              "18"
            ]
          },
          "metadata": {},
          "execution_count": 31
        }
      ]
    },
    {
      "cell_type": "code",
      "source": [
        "print(voc_size)"
      ],
      "metadata": {
        "id": "uCAEOVZP3aG-",
        "outputId": "857141e6-d0c6-4af0-b00c-791c0c4b5243",
        "colab": {
          "base_uri": "https://localhost:8080/"
        }
      },
      "execution_count": 32,
      "outputs": [
        {
          "output_type": "stream",
          "name": "stdout",
          "text": [
            "55\n"
          ]
        }
      ]
    },
    {
      "cell_type": "code",
      "metadata": {
        "id": "-RUNTvlDboGN",
        "outputId": "5ed11947-2d41-44ad-e5b7-6b2b8627197f",
        "colab": {
          "base_uri": "https://localhost:8080/"
        }
      },
      "source": [
        "id2ch"
      ],
      "execution_count": 33,
      "outputs": [
        {
          "output_type": "execute_result",
          "data": {
            "text/plain": [
              "{0: '',\n",
              " 1: '؟',\n",
              " 2: 'ـ؟ـ',\n",
              " 3: 'ّ؟',\n",
              " 4: '؟',\n",
              " 5: '؟',\n",
              " 6: '؟',\n",
              " 7: '؟',\n",
              " 8: 'ً',\n",
              " 9: 'ٌ',\n",
              " 10: 'ٍ',\n",
              " 11: 'َ',\n",
              " 12: 'ُ',\n",
              " 13: 'ِ',\n",
              " 14: 'َّ',\n",
              " 15: 'ُّ',\n",
              " 16: 'ِّ',\n",
              " 17: 'ّ',\n",
              " 18: '\\n',\n",
              " 19: ' ',\n",
              " 20: 'ء',\n",
              " 21: 'آ',\n",
              " 22: 'أ',\n",
              " 23: 'ؤ',\n",
              " 24: 'إ',\n",
              " 25: 'ئ',\n",
              " 26: 'ا',\n",
              " 27: 'ب',\n",
              " 28: 'ة',\n",
              " 29: 'ت',\n",
              " 30: 'ث',\n",
              " 31: 'ج',\n",
              " 32: 'ح',\n",
              " 33: 'خ',\n",
              " 34: 'د',\n",
              " 35: 'ذ',\n",
              " 36: 'ر',\n",
              " 37: 'ز',\n",
              " 38: 'س',\n",
              " 39: 'ش',\n",
              " 40: 'ص',\n",
              " 41: 'ض',\n",
              " 42: 'ط',\n",
              " 43: 'ظ',\n",
              " 44: 'ع',\n",
              " 45: 'غ',\n",
              " 46: 'ف',\n",
              " 47: 'ق',\n",
              " 48: 'ك',\n",
              " 49: 'ل',\n",
              " 50: 'م',\n",
              " 51: 'ن',\n",
              " 52: 'ه',\n",
              " 53: 'و',\n",
              " 54: 'ى',\n",
              " 55: 'ي'}"
            ]
          },
          "metadata": {},
          "execution_count": 33
        }
      ]
    },
    {
      "cell_type": "code",
      "source": [
        "id_repr"
      ],
      "metadata": {
        "colab": {
          "base_uri": "https://localhost:8080/"
        },
        "id": "reiQUFaItsin",
        "outputId": "249cba4e-ce4f-41b5-cc05-8df73596e296"
      },
      "execution_count": 34,
      "outputs": [
        {
          "output_type": "execute_result",
          "data": {
            "text/plain": [
              "{0: 'VOC_START',\n",
              " 1: 'VOC_UNKNOWN',\n",
              " 2: 'VOC_UNKNOWN_TASHKEEL',\n",
              " 3: 'VOC_UNKNOWN_SHADDA',\n",
              " 4: 'VOC_UNKNOWN_LETTER',\n",
              " 5: 'VOC_UNKNOWN_HAMZA',\n",
              " 6: 'VOC_UNKNOWN_TEH_OR_HAA',\n",
              " 7: 'VOC_UNKNOWN_MAQSORA',\n",
              " 8: 'VOC_FATHATAN',\n",
              " 9: 'VOC_DAMMATAN',\n",
              " 10: 'VOC_KASRATAN',\n",
              " 11: 'VOC_FATHA',\n",
              " 12: 'VOC_DAMMA',\n",
              " 13: 'VOC_KASRA',\n",
              " 14: 'VOC_SHADDA_FATHA',\n",
              " 15: 'VOC_SHADDA_DAMMA',\n",
              " 16: 'VOC_SHADDA_KASRA',\n",
              " 17: 'VOC_SUKUN',\n",
              " 18: 'VOC_STOP',\n",
              " 19: 'SPACE',\n",
              " 20: 'ARABIC LETTER HAMZA',\n",
              " 21: 'ARABIC LETTER ALEF WITH MADDA ABOVE',\n",
              " 22: 'ARABIC LETTER ALEF WITH HAMZA ABOVE',\n",
              " 23: 'ARABIC LETTER WAW WITH HAMZA ABOVE',\n",
              " 24: 'ARABIC LETTER ALEF WITH HAMZA BELOW',\n",
              " 25: 'ARABIC LETTER YEH WITH HAMZA ABOVE',\n",
              " 26: 'ARABIC LETTER ALEF',\n",
              " 27: 'ARABIC LETTER BEH',\n",
              " 28: 'ARABIC LETTER TEH MARBUTA',\n",
              " 29: 'ARABIC LETTER TEH',\n",
              " 30: 'ARABIC LETTER THEH',\n",
              " 31: 'ARABIC LETTER JEEM',\n",
              " 32: 'ARABIC LETTER HAH',\n",
              " 33: 'ARABIC LETTER KHAH',\n",
              " 34: 'ARABIC LETTER DAL',\n",
              " 35: 'ARABIC LETTER THAL',\n",
              " 36: 'ARABIC LETTER REH',\n",
              " 37: 'ARABIC LETTER ZAIN',\n",
              " 38: 'ARABIC LETTER SEEN',\n",
              " 39: 'ARABIC LETTER SHEEN',\n",
              " 40: 'ARABIC LETTER SAD',\n",
              " 41: 'ARABIC LETTER DAD',\n",
              " 42: 'ARABIC LETTER TAH',\n",
              " 43: 'ARABIC LETTER ZAH',\n",
              " 44: 'ARABIC LETTER AIN',\n",
              " 45: 'ARABIC LETTER GHAIN',\n",
              " 46: 'ARABIC LETTER FEH',\n",
              " 47: 'ARABIC LETTER QAF',\n",
              " 48: 'ARABIC LETTER KAF',\n",
              " 49: 'ARABIC LETTER LAM',\n",
              " 50: 'ARABIC LETTER MEEM',\n",
              " 51: 'ARABIC LETTER NOON',\n",
              " 52: 'ARABIC LETTER HEH',\n",
              " 53: 'ARABIC LETTER WAW',\n",
              " 54: 'ARABIC LETTER ALEF MAKSURA'}"
            ]
          },
          "metadata": {},
          "execution_count": 34
        }
      ]
    },
    {
      "cell_type": "code",
      "source": [
        "tokens=tokenize_tashkeel_id(line)\n",
        "for con_id, vo_id in tokens: print(con_id, id_repr.get(con_id), \", \", vo_id, id_repr.get(vo_id))"
      ],
      "metadata": {
        "colab": {
          "base_uri": "https://localhost:8080/"
        },
        "id": "ESAjjPLMxaYI",
        "outputId": "8d6c1660-c3c2-419a-b5ee-b46a25afc0de"
      },
      "execution_count": 35,
      "outputs": [
        {
          "output_type": "stream",
          "name": "stdout",
          "text": [
            "27 ARABIC LETTER BEH ,  13 VOC_KASRA\n",
            "38 ARABIC LETTER SEEN ,  2 VOC_UNKNOWN_TASHKEEL\n",
            "50 ARABIC LETTER MEEM ,  13 VOC_KASRA\n",
            "19 SPACE ,  2 VOC_UNKNOWN_TASHKEEL\n",
            "26 ARABIC LETTER ALEF ,  2 VOC_UNKNOWN_TASHKEEL\n",
            "49 ARABIC LETTER LAM ,  2 VOC_UNKNOWN_TASHKEEL\n",
            "49 ARABIC LETTER LAM ,  14 VOC_SHADDA_FATHA\n",
            "52 ARABIC LETTER HEH ,  13 VOC_KASRA\n",
            "19 SPACE ,  2 VOC_UNKNOWN_TASHKEEL\n",
            "26 ARABIC LETTER ALEF ,  2 VOC_UNKNOWN_TASHKEEL\n",
            "49 ARABIC LETTER LAM ,  2 VOC_UNKNOWN_TASHKEEL\n",
            "36 ARABIC LETTER REH ,  14 VOC_SHADDA_FATHA\n",
            "32 ARABIC LETTER HAH ,  2 VOC_UNKNOWN_TASHKEEL\n",
            "50 ARABIC LETTER MEEM ,  11 VOC_FATHA\n",
            "51 ARABIC LETTER NOON ,  13 VOC_KASRA\n",
            "19 SPACE ,  2 VOC_UNKNOWN_TASHKEEL\n",
            "26 ARABIC LETTER ALEF ,  2 VOC_UNKNOWN_TASHKEEL\n",
            "49 ARABIC LETTER LAM ,  2 VOC_UNKNOWN_TASHKEEL\n",
            "36 ARABIC LETTER REH ,  14 VOC_SHADDA_FATHA\n",
            "32 ARABIC LETTER HAH ,  13 VOC_KASRA\n",
            "55 None ,  2 VOC_UNKNOWN_TASHKEEL\n",
            "50 ARABIC LETTER MEEM ,  13 VOC_KASRA\n"
          ]
        }
      ]
    },
    {
      "cell_type": "code",
      "metadata": {
        "id": "swG6KFt5RyLV"
      },
      "source": [
        "import functools"
      ],
      "execution_count": null,
      "outputs": []
    },
    {
      "cell_type": "code",
      "metadata": {
        "id": "On5_BfGKRlau"
      },
      "source": [
        "rnn = functools.partial(tf.keras.layers.GRU, recurrent_activation='sigmoid')"
      ],
      "execution_count": null,
      "outputs": []
    },
    {
      "cell_type": "code",
      "metadata": {
        "id": "jgZWBmYGBPuI"
      },
      "source": [
        "def build_model(vocab_size, embedding_dim, rnn_units):\n",
        "  model = tf.keras.Sequential([\n",
        "    tf.keras.layers.Embedding(vocab_size, embedding_dim),\n",
        "    rnn(rnn_units,\n",
        "        return_sequences=True,\n",
        "        recurrent_initializer='glorot_uniform',\n",
        "        stateful=True),\n",
        "    tf.keras.layers.Dense(vocab_size)\n",
        "  ])\n",
        "  return model\n"
      ],
      "execution_count": null,
      "outputs": []
    }
  ]
}