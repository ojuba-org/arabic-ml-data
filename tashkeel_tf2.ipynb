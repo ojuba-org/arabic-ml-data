{
  "nbformat": 4,
  "nbformat_minor": 0,
  "metadata": {
    "colab": {
      "name": "arabic poems tf1",
      "provenance": [],
      "collapsed_sections": [],
      "authorship_tag": "ABX9TyPpoh7snPdIyQf2BeI098Lq",
      "include_colab_link": true
    },
    "kernelspec": {
      "name": "python3",
      "display_name": "Python 3"
    },
    "accelerator": "GPU"
  },
  "cells": [
    {
      "cell_type": "markdown",
      "metadata": {
        "id": "view-in-github",
        "colab_type": "text"
      },
      "source": [
        "<a href=\"https://colab.research.google.com/github/ojuba-org/arabic-ml-data/blob/master/tashkeel_tf2.ipynb\" target=\"_parent\"><img src=\"https://colab.research.google.com/assets/colab-badge.svg\" alt=\"Open In Colab\"/></a>"
      ]
    },
    {
      "cell_type": "markdown",
      "metadata": {
        "id": "K7Nzhoae6oyN"
      },
      "source": [
        "Tensorflow documentation\n",
        "\n",
        "* [v2](https://www.tensorflow.org/tutorials/text/text_generation)\n",
        "* [v1](https://github.com/tensorflow/docs/blob/master/site/en/r1/tutorials/sequences/text_generation.ipynb)"
      ]
    },
    {
      "cell_type": "code",
      "metadata": {
        "id": "6bB-XTwj9io8"
      },
      "source": [
        "%tensorflow_version 2.x"
      ],
      "execution_count": 2,
      "outputs": []
    },
    {
      "cell_type": "code",
      "metadata": {
        "id": "jOeUIdNu_AU-"
      },
      "source": [
        "import sys\n",
        "import os\n",
        "import time"
      ],
      "execution_count": 1,
      "outputs": []
    },
    {
      "cell_type": "code",
      "metadata": {
        "id": "60OfCkAv-mMZ"
      },
      "source": [
        "import re\n",
        "import unicodedata"
      ],
      "execution_count": 3,
      "outputs": []
    },
    {
      "cell_type": "code",
      "metadata": {
        "id": "ApcMwBdi9sgg"
      },
      "source": [
        "import numpy as np"
      ],
      "execution_count": 4,
      "outputs": []
    },
    {
      "cell_type": "code",
      "metadata": {
        "id": "33-0GY_z7RIr"
      },
      "source": [
        "import tensorflow as tf"
      ],
      "execution_count": 5,
      "outputs": []
    },
    {
      "cell_type": "code",
      "metadata": {
        "id": "Bst7e-d8KIGS"
      },
      "source": [
        "#tf.enable_eager_execution()"
      ],
      "execution_count": 6,
      "outputs": []
    },
    {
      "cell_type": "code",
      "metadata": {
        "id": "3vCqr4qy7STc"
      },
      "source": [
        "#import tensorflow.compat.v1 as tf"
      ],
      "execution_count": 7,
      "outputs": []
    },
    {
      "cell_type": "code",
      "metadata": {
        "colab": {
          "base_uri": "https://localhost:8080/"
        },
        "id": "vFID0M6u9xbf",
        "outputId": "d7b6232e-fd6a-4d95-840c-10b6d364d4d0"
      },
      "source": [
        "print(\"tf version = {} and py version = {}\".format(tf.__version__, sys.version))"
      ],
      "execution_count": 8,
      "outputs": [
        {
          "output_type": "stream",
          "text": [
            "tf version = 2.4.1 and py version = 3.7.10 (default, Feb 20 2021, 21:17:23) \n",
            "[GCC 7.5.0]\n"
          ],
          "name": "stdout"
        }
      ]
    },
    {
      "cell_type": "code",
      "metadata": {
        "id": "6XJ6ovEI-AED"
      },
      "source": [
        "assert sys.version_info.major == 3, 'please use python 3'\n",
        "assert tf.test.gpu_device_name()!='', 'no GPU, please enable GPU'"
      ],
      "execution_count": 9,
      "outputs": []
    },
    {
      "cell_type": "code",
      "metadata": {
        "id": "TrUDr7WY_cuu"
      },
      "source": [
        "#from tensorflow.keras.layers.experimental import preprocessing\n"
      ],
      "execution_count": 10,
      "outputs": []
    },
    {
      "cell_type": "code",
      "metadata": {
        "id": "HnXXpLEm5cCp"
      },
      "source": [
        "! curl -sSLO https://github.com/ojuba-org/arabic-ml-data/archive/refs/heads/master.zip"
      ],
      "execution_count": 11,
      "outputs": []
    },
    {
      "cell_type": "code",
      "metadata": {
        "id": "JuBEml2pKA9U"
      },
      "source": [
        "! unzip -q master.zip \"arabic-ml-data-master/corpora/quran/*.txt\""
      ],
      "execution_count": 12,
      "outputs": []
    },
    {
      "cell_type": "code",
      "metadata": {
        "id": "BUnBxW1qKflI",
        "colab": {
          "base_uri": "https://localhost:8080/"
        },
        "outputId": "06fff042-a668-4e2e-c968-3fb0e76920b4"
      },
      "source": [
        "! cat arabic-ml-data-master/corpora/quran/*.txt > data.txt; wc -l data.txt"
      ],
      "execution_count": 13,
      "outputs": [
        {
          "output_type": "stream",
          "text": [
            "6236 data.txt\n"
          ],
          "name": "stdout"
        }
      ]
    },
    {
      "cell_type": "code",
      "metadata": {
        "id": "xEa_wjUSMcIR"
      },
      "source": [
        "lines=[l.strip() for l in open('data.txt', 'r') if l.strip()]\n",
        "s=set()\n",
        "for l in lines: s.update(l)"
      ],
      "execution_count": 14,
      "outputs": []
    },
    {
      "cell_type": "code",
      "metadata": {
        "colab": {
          "base_uri": "https://localhost:8080/"
        },
        "id": "z8Rt4cHw4cmQ",
        "outputId": "bd4c7acb-b0ea-4349-f0ae-51090dc194f8"
      },
      "source": [
        "alpha=sorted(s)\n",
        "for i in alpha: print(unicodedata.name(i), repr(i))\n"
      ],
      "execution_count": 15,
      "outputs": [
        {
          "output_type": "stream",
          "text": [
            "SPACE ' '\n",
            "ARABIC LETTER HAMZA 'ء'\n",
            "ARABIC LETTER ALEF WITH MADDA ABOVE 'آ'\n",
            "ARABIC LETTER ALEF WITH HAMZA ABOVE 'أ'\n",
            "ARABIC LETTER WAW WITH HAMZA ABOVE 'ؤ'\n",
            "ARABIC LETTER ALEF WITH HAMZA BELOW 'إ'\n",
            "ARABIC LETTER YEH WITH HAMZA ABOVE 'ئ'\n",
            "ARABIC LETTER ALEF 'ا'\n",
            "ARABIC LETTER BEH 'ب'\n",
            "ARABIC LETTER TEH MARBUTA 'ة'\n",
            "ARABIC LETTER TEH 'ت'\n",
            "ARABIC LETTER THEH 'ث'\n",
            "ARABIC LETTER JEEM 'ج'\n",
            "ARABIC LETTER HAH 'ح'\n",
            "ARABIC LETTER KHAH 'خ'\n",
            "ARABIC LETTER DAL 'د'\n",
            "ARABIC LETTER THAL 'ذ'\n",
            "ARABIC LETTER REH 'ر'\n",
            "ARABIC LETTER ZAIN 'ز'\n",
            "ARABIC LETTER SEEN 'س'\n",
            "ARABIC LETTER SHEEN 'ش'\n",
            "ARABIC LETTER SAD 'ص'\n",
            "ARABIC LETTER DAD 'ض'\n",
            "ARABIC LETTER TAH 'ط'\n",
            "ARABIC LETTER ZAH 'ظ'\n",
            "ARABIC LETTER AIN 'ع'\n",
            "ARABIC LETTER GHAIN 'غ'\n",
            "ARABIC LETTER FEH 'ف'\n",
            "ARABIC LETTER QAF 'ق'\n",
            "ARABIC LETTER KAF 'ك'\n",
            "ARABIC LETTER LAM 'ل'\n",
            "ARABIC LETTER MEEM 'م'\n",
            "ARABIC LETTER NOON 'ن'\n",
            "ARABIC LETTER HEH 'ه'\n",
            "ARABIC LETTER WAW 'و'\n",
            "ARABIC LETTER ALEF MAKSURA 'ى'\n",
            "ARABIC LETTER YEH 'ي'\n",
            "ARABIC FATHATAN 'ً'\n",
            "ARABIC DAMMATAN 'ٌ'\n",
            "ARABIC KASRATAN 'ٍ'\n",
            "ARABIC FATHA 'َ'\n",
            "ARABIC DAMMA 'ُ'\n",
            "ARABIC KASRA 'ِ'\n",
            "ARABIC SHADDA 'ّ'\n",
            "ARABIC SUKUN 'ْ'\n"
          ],
          "name": "stdout"
        }
      ]
    },
    {
      "cell_type": "code",
      "metadata": {
        "id": "Q8aljYj77xyp"
      },
      "source": [
        "tashkeel_set = { ch for ch in alpha if unicodedata.category(ch)=='Mn' }"
      ],
      "execution_count": 16,
      "outputs": []
    },
    {
      "cell_type": "code",
      "metadata": {
        "id": "7yfmBqVTOiD3"
      },
      "source": [
        "def tokenize_tashkeel(line):\n",
        "  offs=[ ix for ix, ch in enumerate(line) if ch not in tashkeel_set ]\n",
        "  offs.append(len(line))\n",
        "  return [ line[off: offs[ix+1]] for ix, off in enumerate(offs[:-1]) ]"
      ],
      "execution_count": 18,
      "outputs": []
    },
    {
      "cell_type": "code",
      "metadata": {
        "id": "2nk92RFU8AU1",
        "colab": {
          "base_uri": "https://localhost:8080/"
        },
        "outputId": "43f26b2b-225a-47e7-c070-33743b6c58c0"
      },
      "source": [
        "for i in sorted(tashkeel_set): print(unicodedata.name(i), repr(i))"
      ],
      "execution_count": 17,
      "outputs": [
        {
          "output_type": "stream",
          "text": [
            "ARABIC FATHATAN 'ً'\n",
            "ARABIC DAMMATAN 'ٌ'\n",
            "ARABIC KASRATAN 'ٍ'\n",
            "ARABIC FATHA 'َ'\n",
            "ARABIC DAMMA 'ُ'\n",
            "ARABIC KASRA 'ِ'\n",
            "ARABIC SHADDA 'ّ'\n",
            "ARABIC SUKUN 'ْ'\n"
          ],
          "name": "stdout"
        }
      ]
    },
    {
      "cell_type": "code",
      "metadata": {
        "colab": {
          "base_uri": "https://localhost:8080/",
          "height": 35
        },
        "id": "GPB_DLAU4eQP",
        "outputId": "04afcf12-e7e7-42ab-e3ec-311bff674601"
      },
      "source": [
        "line=lines[0]; line"
      ],
      "execution_count": 19,
      "outputs": [
        {
          "output_type": "execute_result",
          "data": {
            "application/vnd.google.colaboratory.intrinsic+json": {
              "type": "string"
            },
            "text/plain": [
              "'بِسْمِ اللَّهِ الرَّحْمَنِ الرَّحِيمِ'"
            ]
          },
          "metadata": {
            "tags": []
          },
          "execution_count": 19
        }
      ]
    },
    {
      "cell_type": "code",
      "metadata": {
        "id": "PvOrFg_v6tru",
        "colab": {
          "base_uri": "https://localhost:8080/"
        },
        "outputId": "d2a6e7be-f502-4c28-b910-0365b980700c"
      },
      "source": [
        "print(len(line))\n",
        "tokens=tokenize_tashkeel(line)\n",
        "print(tokens)\n",
        "[ len(token) for token in tokens]"
      ],
      "execution_count": 20,
      "outputs": [
        {
          "output_type": "stream",
          "text": [
            "37\n",
            "['بِ', 'سْ', 'مِ', ' ', 'ا', 'ل', 'لَّ', 'هِ', ' ', 'ا', 'ل', 'رَّ', 'حْ', 'مَ', 'نِ', ' ', 'ا', 'ل', 'رَّ', 'حِ', 'ي', 'مِ']\n"
          ],
          "name": "stdout"
        },
        {
          "output_type": "execute_result",
          "data": {
            "text/plain": [
              "[2, 2, 2, 1, 1, 1, 3, 2, 1, 1, 1, 3, 2, 2, 2, 1, 1, 1, 3, 2, 1, 2]"
            ]
          },
          "metadata": {
            "tags": []
          },
          "execution_count": 20
        }
      ]
    },
    {
      "cell_type": "code",
      "metadata": {
        "id": "I9kbSBAjSGXc"
      },
      "source": [
        "(\n",
        "  VOC_START,\n",
        "  VOC_UNKNOWN,\n",
        "  VOC_UNKNOWN_TASHKEEL, VOC_UNKNOWN_SHADDA,\n",
        "  VOC_UNKNOWN_LETTER, VOC_UNKNOWN_HAMZA, VOC_UNKNOWN_TEH_OR_HAA, VOC_UNKNOWN_MAQSORA,\n",
        "  VOC_FATHATAN, VOC_DAMMATAN, VOC_KASRATAN, \n",
        "  VOC_FATHA, VOC_DAMMA, VOC_KASRA,\n",
        "  VOC_SHADDA_FATHA, VOC_SHADDA_DAMMA, VOC_SHADDA_KASRA,\n",
        "  VOC_SUKUN,\n",
        "  VOC_STOP,\n",
        ") = range(19)"
      ],
      "execution_count": 28,
      "outputs": []
    },
    {
      "cell_type": "code",
      "metadata": {
        "id": "Ltge1qDBXZfU",
        "outputId": "9f8fb240-934a-4450-a205-e8ee71df0e22",
        "colab": {
          "base_uri": "https://localhost:8080/"
        }
      },
      "source": [
        "VOC_STOP"
      ],
      "execution_count": 34,
      "outputs": [
        {
          "output_type": "execute_result",
          "data": {
            "text/plain": [
              "18"
            ]
          },
          "metadata": {
            "tags": []
          },
          "execution_count": 34
        }
      ]
    },
    {
      "cell_type": "code",
      "metadata": {
        "id": "loDjt3YCWf82"
      },
      "source": [
        "chars = [ ch for ch in alpha if unicodedata.category(ch)!='Mn']"
      ],
      "execution_count": 48,
      "outputs": []
    },
    {
      "cell_type": "code",
      "metadata": {
        "id": "tKHNejyiW-lu"
      },
      "source": [
        "ch2id = { ch: ix+VOC_STOP+1 for ix, ch in enumerate(chars)}"
      ],
      "execution_count": 49,
      "outputs": []
    },
    {
      "cell_type": "code",
      "metadata": {
        "id": "ArhRFFZrXnCR"
      },
      "source": [
        "ch2id.update({\n",
        "  \"\": VOC_START,\n",
        "  \"\\n\": VOC_STOP,\n",
        "  \"\\u064B\": VOC_FATHATAN, \"\\u064C\": VOC_DAMMATAN, \"\\u064D\": VOC_KASRATAN,\n",
        "  \"\\u064E\": VOC_FATHA, \"\\u064F\": VOC_DAMMA, \"\\u0650\": VOC_KASRA,\n",
        "  \"\\u0651\\u064E\": VOC_SHADDA_FATHA, \"\\u0651\\u064F\": VOC_SHADDA_DAMMA, \"\\u0651\\u0650\": VOC_SHADDA_KASRA,\n",
        "  \"\\u0651\": VOC_SUKUN,\n",
        "  \"\\u061f\": VOC_UNKNOWN,\n",
        "  \"\\u0640\\u061f\\u0640\": VOC_UNKNOWN_TASHKEEL,\n",
        "  \"\\u0651\\u061f\": VOC_UNKNOWN_SHADDA,\n",
        "})"
      ],
      "execution_count": 50,
      "outputs": []
    },
    {
      "cell_type": "code",
      "metadata": {
        "id": "cmo6gshSYkii"
      },
      "source": [
        "id2ch = { v: k for k, v in ch2id.items() }"
      ],
      "execution_count": 51,
      "outputs": []
    },
    {
      "cell_type": "code",
      "metadata": {
        "id": "-inoKgGpbszJ",
        "outputId": "f7cd9f8f-8b33-4ca9-fa53-8b8419a86915",
        "colab": {
          "base_uri": "https://localhost:8080/"
        }
      },
      "source": [
        "voc_size = max(ch2id.values())\n",
        "print(voc_size)"
      ],
      "execution_count": 55,
      "outputs": [
        {
          "output_type": "stream",
          "text": [
            "55\n"
          ],
          "name": "stdout"
        }
      ]
    },
    {
      "cell_type": "code",
      "metadata": {
        "id": "--8Fnu5VanXN"
      },
      "source": [
        "id2ch.update({ ix:'\\u061f' for ix in range(voc_size) if ix not in id2ch})"
      ],
      "execution_count": 56,
      "outputs": []
    },
    {
      "cell_type": "code",
      "metadata": {
        "id": "-RUNTvlDboGN",
        "outputId": "70c32d9c-bcbb-46d7-95ea-f1e1be8d1ce7",
        "colab": {
          "base_uri": "https://localhost:8080/"
        }
      },
      "source": [
        "id2ch"
      ],
      "execution_count": 57,
      "outputs": [
        {
          "output_type": "execute_result",
          "data": {
            "text/plain": [
              "{0: '',\n",
              " 1: '؟',\n",
              " 2: 'ـ؟ـ',\n",
              " 3: 'ّ؟',\n",
              " 4: '؟',\n",
              " 5: '؟',\n",
              " 6: '؟',\n",
              " 7: '؟',\n",
              " 8: 'ً',\n",
              " 9: 'ٌ',\n",
              " 10: 'ٍ',\n",
              " 11: 'َ',\n",
              " 12: 'ُ',\n",
              " 13: 'ِ',\n",
              " 14: 'َّ',\n",
              " 15: 'ُّ',\n",
              " 16: 'ِّ',\n",
              " 17: 'ّ',\n",
              " 18: '\\n',\n",
              " 19: ' ',\n",
              " 20: 'ء',\n",
              " 21: 'آ',\n",
              " 22: 'أ',\n",
              " 23: 'ؤ',\n",
              " 24: 'إ',\n",
              " 25: 'ئ',\n",
              " 26: 'ا',\n",
              " 27: 'ب',\n",
              " 28: 'ة',\n",
              " 29: 'ت',\n",
              " 30: 'ث',\n",
              " 31: 'ج',\n",
              " 32: 'ح',\n",
              " 33: 'خ',\n",
              " 34: 'د',\n",
              " 35: 'ذ',\n",
              " 36: 'ر',\n",
              " 37: 'ز',\n",
              " 38: 'س',\n",
              " 39: 'ش',\n",
              " 40: 'ص',\n",
              " 41: 'ض',\n",
              " 42: 'ط',\n",
              " 43: 'ظ',\n",
              " 44: 'ع',\n",
              " 45: 'غ',\n",
              " 46: 'ف',\n",
              " 47: 'ق',\n",
              " 48: 'ك',\n",
              " 49: 'ل',\n",
              " 50: 'م',\n",
              " 51: 'ن',\n",
              " 52: 'ه',\n",
              " 53: 'و',\n",
              " 54: 'ى',\n",
              " 55: 'ي'}"
            ]
          },
          "metadata": {
            "tags": []
          },
          "execution_count": 57
        }
      ]
    },
    {
      "cell_type": "code",
      "metadata": {
        "id": "swG6KFt5RyLV"
      },
      "source": [
        "import functools"
      ],
      "execution_count": 23,
      "outputs": []
    },
    {
      "cell_type": "code",
      "metadata": {
        "id": "On5_BfGKRlau"
      },
      "source": [
        "rnn = functools.partial(tf.keras.layers.GRU, recurrent_activation='sigmoid')"
      ],
      "execution_count": 24,
      "outputs": []
    },
    {
      "cell_type": "code",
      "metadata": {
        "id": "jgZWBmYGBPuI"
      },
      "source": [
        "def build_model(vocab_size, embedding_dim, rnn_units):\n",
        "  model = tf.keras.Sequential([\n",
        "    tf.keras.layers.Embedding(vocab_size, embedding_dim),\n",
        "    rnn(rnn_units,\n",
        "        return_sequences=True,\n",
        "        recurrent_initializer='glorot_uniform',\n",
        "        stateful=True),\n",
        "    tf.keras.layers.Dense(vocab_size)\n",
        "  ])\n",
        "  return model\n"
      ],
      "execution_count": null,
      "outputs": []
    }
  ]
}